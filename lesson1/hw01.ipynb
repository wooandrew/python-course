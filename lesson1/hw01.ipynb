{
 "cells": [
  {
   "attachments": {},
   "cell_type": "markdown",
   "metadata": {},
   "source": [
    "# Homework 01 | v1.0\n",
    "#### Python Course (c) Andrew Woo, 2023\n",
    "\n",
    "Email homework to\\\n",
    "MAIN -> wooandrew@gatech.edu\\\n",
    "CC -> eyelevelonair1@gmail.com\n",
    "\n",
    "Homework Files to Submit for Week 1:\n",
    "+ hw1.html (exported to HTML from hw1.ipynb)\n",
    "\n",
    "Follow the examples in Chapter 2 and submit the following files:\n",
    "+ cars.py\n",
    "+ toppings.py\n",
    "+ magic_number.py\n",
    "+ banned_users.py\n",
    "+ voting.py\n",
    "+ amusement_park.py\n",
    "\n",
    "This weeks reading:\n",
    "+ Chapter 3, 4, 5\n",
    "\n",
    "----------------------------------------------------------------------------------"
   ]
  },
  {
   "attachments": {},
   "cell_type": "markdown",
   "metadata": {},
   "source": [
    "## Problem 0: Introduction to Conditional Statements | Part 1\n",
    "\n",
    "Prep:\\\n",
    "Declare a string name, and set it to \"John\".\n",
    "\n",
    "Objective:\\\n",
    "Compare your variable with the string \"Mary\". Print \"Name is Mary\" if true, else print \"Wrong person!\"\n",
    "\n",
    "Grade:\\\n",
    "/1.0"
   ]
  },
  {
   "cell_type": "code",
   "execution_count": null,
   "metadata": {},
   "outputs": [],
   "source": []
  },
  {
   "attachments": {},
   "cell_type": "markdown",
   "metadata": {},
   "source": [
    "## Problem 1: Introduction to Conditional Statements | Part 2\n",
    "\n",
    "Prep:\\\n",
    "Declare a string name, and set it to \"John\".\n",
    "\n",
    "Objective:\\\n",
    "Compare your variable with the string \"Mary\". Print \"Name is Mary\" if true.\\\n",
    "Otherwise, compare against \"Cody\" and print \"Name is not Mary, but Cody.\"\\\n",
    "Otherwise, print \"Wrong person!\"\n",
    "\n",
    "Grade:\\\n",
    "/1.0"
   ]
  },
  {
   "cell_type": "code",
   "execution_count": null,
   "metadata": {},
   "outputs": [],
   "source": []
  },
  {
   "attachments": {},
   "cell_type": "markdown",
   "metadata": {},
   "source": [
    "## Problem 2: Multiple Conditional\n",
    "\n",
    "Prep:\\\n",
    "Declare a string name, and assign it to \"John\".\\\n",
    "Declare an integer age, and assign it a value of 32.\n",
    "\n",
    "Objective:\\\n",
    "Compare name with the string \"John\". In the same if statement, compare age to 32. If true, print \"Hello!\", else print \"Goodbye!\".\n",
    "\n",
    "Grade:\\\n",
    "/1.0"
   ]
  },
  {
   "cell_type": "code",
   "execution_count": null,
   "metadata": {},
   "outputs": [],
   "source": []
  },
  {
   "attachments": {},
   "cell_type": "markdown",
   "metadata": {},
   "source": [
    "## Problem 3: Sequential Conditional\n",
    "\n",
    "Prep:\\\n",
    "Declare a string name, and assign it to \"John\".\\\n",
    "Declare an integer age, and assign it a value of 32.\n",
    "\n",
    "Objective:\\\n",
    "Compare name with the string \"John\". If true, print \"Hi, my name is John!\". Else print, \"I don't know you!\"\\\n",
    "In another if statement, compare the age to \"12\". If true, print \"John is 12.\" Otherwise, print \"John is 32\".\n",
    "\n",
    "Grade:\\\n",
    "/1.0"
   ]
  },
  {
   "cell_type": "code",
   "execution_count": null,
   "metadata": {},
   "outputs": [],
   "source": []
  }
 ],
 "metadata": {
  "kernelspec": {
   "display_name": "Python 3",
   "language": "python",
   "name": "python3"
  },
  "language_info": {
   "name": "python",
   "version": "3.11.2"
  },
  "orig_nbformat": 4,
  "vscode": {
   "interpreter": {
    "hash": "8c07147a7e1a52b73bded763823a9867bb13f026bcffdc7c7f4ff0433cf98953"
   }
  }
 },
 "nbformat": 4,
 "nbformat_minor": 2
}
