{
 "cells": [
  {
   "attachments": {},
   "cell_type": "markdown",
   "metadata": {},
   "source": [
    "# Homework 01 | v1.0\n",
    "#### Python Course (c) Andrew Woo, 2023\n",
    "\n",
    "How to Submit Homework:\n",
    "```git\n",
    "# Pull recent changes from remote/master (Teacher repository)\n",
    "git reset --hard HEAD\n",
    "git checkout origin/master\n",
    "git pull origin master\n",
    "git checkout -b hw<#>\n",
    "\n",
    "# You can do your homework now.\n",
    "\n",
    "# After finishing homework\n",
    "git add *\n",
    "git commit -m \"hw<#>\"\n",
    "git push -u -f my hw<#>\n",
    "```\n",
    "\n",
    "Homework Files to Submit for Week 1:\n",
    "+ hw1.html (exported to HTML from hw1.ipynb)\n",
    "\n",
    "Follow the examples in Chapter 2 and submit the following files:\n",
    "+ cars.py\n",
    "+ toppings.py\n",
    "+ magic_number.py\n",
    "+ banned_users.py\n",
    "+ voting.py\n",
    "+ amusement_park.py\n",
    "\n",
    "This weeks reading:\n",
    "+ Chapter 3, 4, 5\n",
    "\n",
    "----------------------------------------------------------------------------------"
   ]
  },
  {
   "attachments": {},
   "cell_type": "markdown",
   "metadata": {},
   "source": [
    "## Problem 0: Introduction to Conditional Statements | Part 1\n",
    "\n",
    "Prep:\\\n",
    "Declare a string name, and set it to \"John\".\n",
    "\n",
    "Objective:\\\n",
    "Compare your variable with the string \"Mary\". Print \"Name is Mary\" if true, else print \"Wrong person!\"\n",
    "\n",
    "Grade:\\\n",
    "/1.0"
   ]
  },
  {
   "cell_type": "code",
   "execution_count": null,
   "metadata": {},
   "outputs": [],
   "source": []
  },
  {
   "attachments": {},
   "cell_type": "markdown",
   "metadata": {},
   "source": [
    "## Problem 1: Introduction to Conditional Statements | Part 2\n",
    "\n",
    "Prep:\\\n",
    "Declare a string name, and set it to \"John\".\n",
    "\n",
    "Objective:\\\n",
    "Compare your variable with the string \"Mary\". Print \"Name is Mary\" if true.\\\n",
    "Otherwise, compare against \"Cody\" and print \"Name is not Mary, but Cody.\"\\\n",
    "Otherwise, print \"Wrong person!\"\n",
    "\n",
    "Grade:\\\n",
    "/1.0"
   ]
  },
  {
   "cell_type": "code",
   "execution_count": null,
   "metadata": {},
   "outputs": [],
   "source": []
  },
  {
   "attachments": {},
   "cell_type": "markdown",
   "metadata": {},
   "source": [
    "## Problem 2: Multiple Conditional\n",
    "\n",
    "Prep:\\\n",
    "Declare a string name, and assign it to \"John\".\\\n",
    "Declare an integer age, and assign it a value of 32.\n",
    "\n",
    "Objective:\\\n",
    "Compare name with the string \"John\". In the same if statement, compare age to 32. If true, print \"Hello!\", else print \"Goodbye!\".\n",
    "\n",
    "Grade:\\\n",
    "/1.0"
   ]
  },
  {
   "cell_type": "code",
   "execution_count": null,
   "metadata": {},
   "outputs": [],
   "source": []
  },
  {
   "attachments": {},
   "cell_type": "markdown",
   "metadata": {},
   "source": [
    "## Problem 3: Sequential Conditional\n",
    "\n",
    "Prep:\\\n",
    "Declare a string name, and assign it to \"John\".\\\n",
    "Declare an integer age, and assign it a value of 32.\n",
    "\n",
    "Objective:\\\n",
    "Compare name with the string \"John\". If true, print \"Hi, my name is John!\". Else print, \"I don't know you!\"\\\n",
    "In another if statement, compare the age to \"12\". If true, print \"John is 12.\" Otherwise, print \"John is 32\".\n",
    "\n",
    "Grade:\\\n",
    "/1.0"
   ]
  },
  {
   "cell_type": "code",
   "execution_count": null,
   "metadata": {},
   "outputs": [],
   "source": []
  },
  {
   "attachments": {},
   "cell_type": "markdown",
   "metadata": {},
   "source": [
    "## Problem 4: Math | Part 1\n",
    "\n",
    "Prep:\\\n",
    "Declare an integer x = 10.\\\n",
    "Declare an integer y = 20.\n",
    "\n",
    "Objective:\\\n",
    "Compare x and y. If x is greater, print \"greater\". If it is less, than print \"lesser\".\n",
    "\n",
    "Grade:\\\n",
    "/1.0"
   ]
  },
  {
   "cell_type": "code",
   "execution_count": null,
   "metadata": {},
   "outputs": [],
   "source": []
  },
  {
   "attachments": {},
   "cell_type": "markdown",
   "metadata": {},
   "source": [
    "## Problem 5: Math | Part 2\n",
    "\n",
    "Prep:\\\n",
    "Declare an integer x = 20.\\\n",
    "Declare an integer y = 20.\n",
    "\n",
    "Objective:\\\n",
    "Compare x and y. If x is less than or equal to y, print \"lesser/equal\". If it is greater, than print \"greater\".\n",
    "\n",
    "Grade:\\\n",
    "/1.0"
   ]
  },
  {
   "cell_type": "code",
   "execution_count": null,
   "metadata": {},
   "outputs": [],
   "source": []
  },
  {
   "attachments": {},
   "cell_type": "markdown",
   "metadata": {},
   "source": [
    "## Problem 6: Math | Part 3\n",
    "\n",
    "Prep:\\\n",
    "Declare an integer x = 20.\\\n",
    "Declare an integer y = 20.\n",
    "\n",
    "Objective:\\\n",
    "Compare x and y. If x is equal to y, print \"equal\". Otherwise, print \"not equal\".\n",
    "\n",
    "Grade:\\\n",
    "/1.0"
   ]
  },
  {
   "cell_type": "code",
   "execution_count": null,
   "metadata": {},
   "outputs": [],
   "source": []
  }
 ],
 "metadata": {
  "kernelspec": {
   "display_name": "Python 3",
   "language": "python",
   "name": "python3"
  },
  "language_info": {
   "name": "python",
   "version": "3.11.2"
  },
  "orig_nbformat": 4,
  "vscode": {
   "interpreter": {
    "hash": "8c07147a7e1a52b73bded763823a9867bb13f026bcffdc7c7f4ff0433cf98953"
   }
  }
 },
 "nbformat": 4,
 "nbformat_minor": 2
}
