{
 "cells": [
  {
   "attachments": {},
   "cell_type": "markdown",
   "metadata": {},
   "source": [
    "# Homework 0 | v1.0\n",
    "#### Python Course (c) Andrew Woo, 2023\n",
    "\n",
    "Email homework to\\\n",
    "MAIN -> wooandrew@gatech.edu\\\n",
    "CC -> eyelevelonair1@gmail.com\n",
    "\n",
    "Homework Files to Submit for Week 0:\n",
    "+ hw0.html (exported to HTML from hw0.ipynb)\n",
    "\n",
    "Follow the examples in Chapter 2 and submit the following files:\n",
    "+ hello_world.py\n",
    "+ name.py\n",
    "+ apostrophe.py\n",
    "+ birthday.py\n",
    "+ comment.py\n",
    "\n",
    "This weeks reading:\n",
    "+ Chapter 3\n",
    "\n",
    "----------------------------------------------------------------------------------"
   ]
  },
  {
   "attachments": {},
   "cell_type": "markdown",
   "metadata": {},
   "source": [
    "## Problem 0: Introduction to print statements\n",
    "\n",
    "Objective:\\\n",
    "Print \"Hello World!\" (without the quotation marks)\n",
    "\n",
    "Grade:\\\n",
    "/1.0"
   ]
  },
  {
   "cell_type": "code",
   "execution_count": null,
   "metadata": {},
   "outputs": [],
   "source": []
  },
  {
   "attachments": {},
   "cell_type": "markdown",
   "metadata": {},
   "source": [
    "## Problem 1: Introduction to variables\n",
    "\n",
    "Objective:\\\n",
    "Declare a variable called \"int0\" and assign it a value of your choosing.\n",
    "\n",
    "Grade:\\\n",
    "/1.0"
   ]
  },
  {
   "cell_type": "code",
   "execution_count": null,
   "metadata": {},
   "outputs": [],
   "source": []
  },
  {
   "attachments": {},
   "cell_type": "markdown",
   "metadata": {},
   "source": [
    "## Problem 2: Printing string and integers\n",
    "\n",
    "Prep:\\\n",
    "Declare a variable called \"int0\" and assign it a value of 10.\n",
    "\n",
    "Objective:\\\n",
    "Print \"Hello World! int0 = 10.\" using the variable you declared above.\n",
    "\n",
    "You MUST use your \"int0\" variable. Hardcoding your answers will not net you any points!\\\n",
    "ex. `print(\"Hello World! int0 = 10\")` does not count!\n",
    "\n",
    "Grade:\\\n",
    "/1.0"
   ]
  },
  {
   "cell_type": "code",
   "execution_count": null,
   "metadata": {},
   "outputs": [],
   "source": []
  },
  {
   "attachments": {},
   "cell_type": "markdown",
   "metadata": {},
   "source": [
    "## Problem 3: Strings and reassignment of variables\n",
    "\n",
    "Prep:\\\n",
    "Declare a variable called \"msg0\" and assign a string \"This is my message!\" to it.\n",
    "\n",
    "Objective:\\\n",
    "Print msg0. Then, change the value of msg0 to \"Redacted message\" using the assignment variable.\n",
    "\n",
    "Grade:\\\n",
    "/2.0"
   ]
  },
  {
   "cell_type": "code",
   "execution_count": null,
   "metadata": {},
   "outputs": [],
   "source": []
  },
  {
   "attachments": {},
   "cell_type": "markdown",
   "metadata": {},
   "source": [
    "## Problem 4: Comments\n",
    "\n",
    "Objective: \\\n",
    "Create a *single-line* comment and a *multi-line* comment.\n",
    "\n",
    "Grade:\\\n",
    "/2.0"
   ]
  },
  {
   "cell_type": "code",
   "execution_count": null,
   "metadata": {},
   "outputs": [],
   "source": []
  },
  {
   "attachments": {},
   "cell_type": "markdown",
   "metadata": {},
   "source": [
    "## Problem 5: Concatenation of strings\n",
    "\n",
    "Prep:\\\n",
    "Declare a variable called \"str0\" and assign a string \"Step 1\" to it.\\\n",
    "Declare another variable called \"str1\" and assign a string \"Step 2\" to it.\n",
    "\n",
    "Objective:\\\n",
    "Print \"Step 1Step 2\" using the concatenation/addition operator and the variables you declared.\n",
    "\n",
    "You MUST use your \"str0\" and \"str1\" variables. Hardcoding your answers will not net you any points!\\\n",
    "ex. `print(\"Step 1\" + \"Step 2\")` does not count!\n",
    "\n",
    "\n",
    "Grade:\\\n",
    "/2.0"
   ]
  },
  {
   "cell_type": "code",
   "execution_count": null,
   "metadata": {},
   "outputs": [],
   "source": []
  },
  {
   "attachments": {},
   "cell_type": "markdown",
   "metadata": {},
   "source": [
    "## Problem 6: Math\n",
    "\n",
    "Prep:\\\n",
    "Declare an integer \"x\" and assign it a value of 10.\\\n",
    "Declare an integer \"y\" and assign it a value of 5.\n",
    "\n",
    "Objective:\\\n",
    "1). Print the result of *x* plus *y* using the variables.\\\n",
    "2). Print the result of *x* minus *y* using the variables.\\\n",
    "3). Print the result of *x* multiplied by *y* using the variables.\\\n",
    "4). Print the result of *x* divided by *y* using the variables.\n",
    "\n",
    "You MUST use your \"x\" and \"y\" variables. Hardcoding your answers will not net you any points!\\\n",
    "ex. `print(15)` does not count!\n",
    "\n",
    "Grade:\\\n",
    "/5.0"
   ]
  },
  {
   "cell_type": "code",
   "execution_count": null,
   "metadata": {},
   "outputs": [],
   "source": []
  },
  {
   "attachments": {},
   "cell_type": "markdown",
   "metadata": {},
   "source": [
    "## Problem 7: Types of errors\n",
    "\n",
    "During class we discussed two different types of errors. In a python comment, name the errors and explain them in short.\n",
    "\n",
    "Grade:\\\n",
    "/5.0"
   ]
  },
  {
   "cell_type": "code",
   "execution_count": null,
   "metadata": {},
   "outputs": [],
   "source": []
  },
  {
   "attachments": {},
   "cell_type": "markdown",
   "metadata": {},
   "source": [
    "## Problem 8: Match the error #1\n",
    "\n",
    "In comments, match the type of error that the code produces.\n",
    "\n",
    "Code:\n",
    "\n",
    "----------------------------------------------------------------------------------\n",
    "```py\n",
    "print(\"Hello!\")\n",
    "```\n",
    "----------------------------------------------------------------------------------\n",
    "\n",
    "Desired output: `Hello World!`\n",
    "\n",
    "Grade:\\\n",
    "/1.0"
   ]
  },
  {
   "cell_type": "code",
   "execution_count": null,
   "metadata": {},
   "outputs": [],
   "source": []
  },
  {
   "attachments": {},
   "cell_type": "markdown",
   "metadata": {},
   "source": [
    "## Problem 9: Match the error #2\n",
    "\n",
    "In comments, match the type of error that the code produces.\n",
    "\n",
    "Code:\n",
    "\n",
    "----------------------------------------------------------------------------------\n",
    "```py\n",
    "print(\"Hello World!\n",
    "```\n",
    "----------------------------------------------------------------------------------\n",
    "\n",
    "Desired output: `Hello World!`\n",
    "\n",
    "Grade:\\\n",
    "/1.0"
   ]
  },
  {
   "cell_type": "code",
   "execution_count": null,
   "metadata": {},
   "outputs": [],
   "source": []
  },
  {
   "attachments": {},
   "cell_type": "markdown",
   "metadata": {},
   "source": [
    "## Problem 10: Bonus question\n",
    "\n",
    "Without running the code, determine what the output of the following code will be\n",
    "\n",
    "Code:\n",
    "\n",
    "----------------------------------------------------------------------------------\n",
    "```py\n",
    "x = 10\n",
    "y = 10\n",
    "z = x + y\n",
    "z = z * z\n",
    "\n",
    "print(f'I will say Hello {z} times!')\n",
    "```\n",
    "----------------------------------------------------------------------------------\n",
    "\n",
    "Write your answer as a comment."
   ]
  },
  {
   "cell_type": "code",
   "execution_count": null,
   "metadata": {},
   "outputs": [],
   "source": []
  }
 ],
 "metadata": {
  "kernelspec": {
   "display_name": "Python 3",
   "language": "python",
   "name": "python3"
  },
  "language_info": {
   "name": "python",
   "version": "3.11.2"
  },
  "orig_nbformat": 4,
  "vscode": {
   "interpreter": {
    "hash": "8c07147a7e1a52b73bded763823a9867bb13f026bcffdc7c7f4ff0433cf98953"
   }
  }
 },
 "nbformat": 4,
 "nbformat_minor": 2
}
