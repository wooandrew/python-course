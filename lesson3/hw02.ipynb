{
 "cells": [
  {
   "attachments": {},
   "cell_type": "markdown",
   "metadata": {},
   "source": [
    "# Homework 02 | v1.0\n",
    "#### Python Course (c) Andrew Woo, 2023\n",
    "\n",
    "Your homework this week is simple. Make a program using everything you have learned so far. It is up to you to decide what kind of program you wish to create.\n",
    "Your program must include the following:\n",
    "\n",
    " + Conditional Statements (if/elif/else)\n",
    " + Loops (for/while | use both)\n",
    " + Lists\n",
    " + Variables\n",
    " + User input\n",
    "\n",
    "Follow the examples in Chapter 2 and submit the following files:\n",
    "+ parrot.py\n",
    "+ greeter.py\n",
    "+ rollercoaster.py\n",
    "+ even_or_odd.py\n",
    "+ counting.py\n",
    "+ cities.py\n",
    "+ confirmed_users.py\n",
    "+ pets.py\n",
    "+ mountain_poll.py\n",
    "\n",
    "This weeks reading:\n",
    "+ Chapter 7\n",
    "\n",
    "How to Submit Homework:\n",
    "```git\n",
    "# Pull recent changes from remote/master (Teacher repository)\n",
    "git reset --hard HEAD\n",
    "git checkout origin/master\n",
    "git pull origin master\n",
    "git checkout -b hw<#>\n",
    "\n",
    "# You can do your homework now.\n",
    "\n",
    "# After finishing homework\n",
    "git add *\n",
    "git commit -m \"hw<#>\"\n",
    "git push -u -f my hw<#>\n",
    "```\n",
    "\n",
    "----------------------------------------------------------------------------------"
   ]
  }
 ],
 "metadata": {
  "language_info": {
   "name": "python"
  },
  "orig_nbformat": 4
 },
 "nbformat": 4,
 "nbformat_minor": 2
}
